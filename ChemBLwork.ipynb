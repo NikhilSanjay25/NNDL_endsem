{
 "cells": [
  {
   "cell_type": "code",
   "execution_count": 6,
   "id": "02d46e7b-0f85-40ac-bd76-8d01756e2f28",
   "metadata": {},
   "outputs": [
    {
     "name": "stdout",
     "output_type": "stream",
     "text": [
      "Loading chemreps (molecule representations)...\n",
      "chemreps shape: (2474590, 4)\n",
      "      chembl_id                                   canonical_smiles  \\\n",
      "0  CHEMBL153534                       Cc1cc(-c2csc(N=C(N)N)n2)cn1C   \n",
      "1  CHEMBL440060  CC[C@H](C)[C@H](NC(=O)[C@H](CC(C)C)NC(=O)[C@@H...   \n",
      "2  CHEMBL440245  CCCC[C@@H]1NC(=O)[C@@H](NC(=O)[C@H](CC(C)C)NC(...   \n",
      "3  CHEMBL440249  CC(C)C[C@@H]1NC(=O)CNC(=O)[C@H](c2ccc(O)cc2)NC...   \n",
      "4  CHEMBL405398             Brc1cccc(Nc2ncnc3ccncc23)c1NCCN1CCOCC1   \n",
      "\n",
      "                                      standard_inchi  \\\n",
      "0  InChI=1S/C10H13N5S/c1-6-3-7(4-15(6)2)8-5-16-10...   \n",
      "1  InChI=1S/C123H212N44O34S/c1-19-63(12)96(164-11...   \n",
      "2  InChI=1S/C160H268N50O41/c1-23-27-41-95-134(228...   \n",
      "3  InChI=1S/C124H154ClN21O39/c1-57(2)48-81-112(17...   \n",
      "4  InChI=1S/C19H21BrN6O/c20-15-2-1-3-17(18(15)22-...   \n",
      "\n",
      "            standard_inchi_key  \n",
      "0  MFRNFCWYPYSFQQ-UHFFFAOYSA-N  \n",
      "1  RSEQNZQKBMRQNM-VRGFNVLHSA-N  \n",
      "2  FTKBTEIKPOYCEX-OZSLQWTKSA-N  \n",
      "3  UYSXXKGACMHPIM-KFGDMSGDSA-N  \n",
      "4  VDSXZXJEWIWBCG-UHFFFAOYSA-N  \n"
     ]
    }
   ],
   "source": [
    "# 📌 ChEMBL 35 Loader Notebook\n",
    "# --------------------------------------------------------\n",
    "# Requirements: pandas, biopython, sqlite3\n",
    "# Install if missing:\n",
    "#   pip install pandas biopython\n",
    "\n",
    "import pandas as pd\n",
    "import sqlite3\n",
    "from Bio import SeqIO\n",
    "import gzip\n",
    "\n",
    "# ========== 1. Load chembl_35_chemreps.txt.gz ==========\n",
    "print(\"Loading chemreps (molecule representations)...\")\n",
    "chemreps = pd.read_csv(\n",
    "    r\"DL_ENDSEM__DATASET\\chembl_35_chemreps.txt.gz\",\n",
    "    sep=\"\\t\",\n",
    "    compression=\"gzip\"\n",
    ")\n",
    "print(\"chemreps shape:\", chemreps.shape)\n",
    "print(chemreps.head())\n"
   ]
  },
  {
   "cell_type": "code",
   "execution_count": 7,
   "id": "ae7519bc",
   "metadata": {},
   "outputs": [
    {
     "name": "stdout",
     "output_type": "stream",
     "text": [
      "\n",
      "Loading target protein sequences (FASTA)...\n",
      "Number of sequences: 14763\n",
      "Example sequence: {'id': 'CHEMBL1907607_O09028', 'seq': 'MSYSLYLAFVCLNLLAQRMCIQGNQFNVEVSRSDKLSLPGFENLTAGYNKFLRPNFGGDPVRIALTLDIASISSISESNMDYTATIYLRQRWTDPRLVFEGNKSFTLDARLVEFLWVPDTYIVESKKSFLHEVTVGNRLIRLFSNGTVLYALRITTTVTCNMDLSKYPMDTQTCKLQLESWGYDGNDVEFSWLRGNDSVRGLENLRLAQYTIQQYFTLVTVSQQETGNYTRLVLQFELRRNVLYFILETYVPSTFLVVLSWVSFWISLESVPARTCIGVTTVLSMTTLMIGSRTSLPNTNCFIKAIDVYLGICFSFVFGALLEYAVAHYSSLQQMAVKDRGPAKDSEEVNITNIINSSISSFKRKISFASIEISGDNVNYSDLTMKASDKFKFVFREKIGRIIDYFTIQNPSNVDRYSKLLFPLIFMLANVFYWAYYMYF'}\n"
     ]
    }
   ],
   "source": [
    "\n",
    "\n",
    "# ========== 2. Load chembl_35_blast.fa.gz ==========\n",
    "print(\"\\nLoading target protein sequences (FASTA)...\")\n",
    "fasta_file = r\"DL_ENDSEM__DATASET\\chembl_35_blast.fa.gz\"\n",
    "sequences = []\n",
    "\n",
    "# Open with gzip in text mode to avoid UnicodeDecodeError\n",
    "with gzip.open(fasta_file, \"rt\") as handle:\n",
    "    for record in SeqIO.parse(handle, \"fasta\"):\n",
    "        sequences.append({\"id\": record.id, \"seq\": str(record.seq)})\n",
    "\n",
    "print(\"Number of sequences:\", len(sequences))\n",
    "print(\"Example sequence:\", sequences[0])\n",
    "\n"
   ]
  },
  {
   "cell_type": "code",
   "execution_count": 8,
   "id": "3678da2a",
   "metadata": {},
   "outputs": [
    {
     "name": "stdout",
     "output_type": "stream",
     "text": [
      "\n",
      "Connecting to ChEMBL SQLite database...\n",
      "\n",
      "Checking available tables in ChEMBL DB...\n",
      "                         name\n",
      "0                 action_type\n",
      "1                  assay_type\n",
      "2            chembl_id_lookup\n",
      "3     confidence_score_lookup\n",
      "4             curation_lookup\n",
      "..                        ...\n",
      "75             mechanism_refs\n",
      "76            metabolism_refs\n",
      "77  predicted_binding_domains\n",
      "78               warning_refs\n",
      "79               sqlite_stat1\n",
      "\n",
      "[80 rows x 1 columns]\n",
      "                                    canonical_smiles standard_type  \\\n",
      "0           c1ccc(-c2nc3c(-c4nc5ccccc5o4)cccc3o2)cc1          IC50   \n",
      "1  Cc1ccc2oc(-c3cccc(N4C(=O)c5ccc(C(=O)O)cc5C4=O)...          IC50   \n",
      "2  Cc1ccc2oc(-c3cccc(N4C(=O)c5ccc(C(=O)O)cc5C4=O)...          IC50   \n",
      "3  COc1ccccc1-c1ccc2oc(-c3ccc(OC)c(N4C(=O)c5ccc(C...          IC50   \n",
      "4  COc1ccccc1-c1ccc2oc(-c3ccc(OC)c(N4C(=O)c5ccc(C...          IC50   \n",
      "\n",
      "   standard_value standard_units  \n",
      "0        100000.0             nM  \n",
      "1          2500.0             nM  \n",
      "2         50000.0             nM  \n",
      "3          9000.0             nM  \n",
      "4             NaN             nM  \n"
     ]
    }
   ],
   "source": [
    "\n",
    "# ========== 3. Load chembl_35_sqlite.db ==========\n",
    "# Make sure you extracted chembl_35_sqlite.tar.gz first:\n",
    "#   tar -xvzf chembl_35_sqlite.tar.gz\n",
    "# This gives you chembl_35/chembl_35.db\n",
    "\n",
    "print(\"\\nConnecting to ChEMBL SQLite database...\")\n",
    "conn = sqlite3.connect(\n",
    "    r\"DL_ENDSEM__DATASET\\chembl_35\\chembl_35_sqlite\\chembl_35.db\"\n",
    ")\n",
    "print(\"\\nChecking available tables in ChEMBL DB...\")\n",
    "tables = pd.read_sql_query(\"SELECT name FROM sqlite_master WHERE type='table';\", conn)\n",
    "print(tables)\n",
    "\n",
    "# Example query: fetch 5 IC50 activities with SMILES\n",
    "query = \"\"\"\n",
    "SELECT cs.canonical_smiles, a.standard_type, a.standard_value, a.standard_units\n",
    "FROM activities a\n",
    "JOIN compound_structures cs ON a.molregno = cs.molregno\n",
    "WHERE a.standard_type = 'IC50'\n",
    "LIMIT 5;\n",
    "\"\"\"\n",
    "example_activities = pd.read_sql_query(query, conn)\n",
    "print(example_activities)\n",
    "\n"
   ]
  },
  {
   "cell_type": "code",
   "execution_count": 9,
   "id": "18f6f94e",
   "metadata": {},
   "outputs": [
    {
     "name": "stdout",
     "output_type": "stream",
     "text": [
      "\n",
      "Loading UniProt mapping...\n",
      "uniprot mapping shape: (14809, 1)\n",
      "                                                        # chembl_35 target list, 01/12/2024\n",
      "P21266 CHEMBL2242 Glutathione S-transferase Mu 3                             SINGLE PROTEIN\n",
      "O00519 CHEMBL2243 Anandamide amidohydrolase                                  SINGLE PROTEIN\n",
      "P19217 CHEMBL2244 Estrogen sulfotransferase                                  SINGLE PROTEIN\n",
      "P97292 CHEMBL2245 Histamine H2 receptor                                      SINGLE PROTEIN\n",
      "P17342 CHEMBL2247 Atrial natriuretic peptide receptor C                      SINGLE PROTEIN\n"
     ]
    }
   ],
   "source": [
    "\n",
    "# ========== 4. Load chembl_uniprot_mapping.txt ==========\n",
    "print(\"\\nLoading UniProt mapping...\")\n",
    "uniprot_map = pd.read_csv(\n",
    "    r\"DL_ENDSEM__DATASET\\chembl_uniprot_mapping.txt\",\n",
    "    sep=\"\\t\"\n",
    ")\n",
    "print(\"uniprot mapping shape:\", uniprot_map.shape)\n",
    "print(uniprot_map.head())\n",
    "\n",
    "# Close DB connection\n",
    "conn.close()\n"
   ]
  }
 ],
 "metadata": {
  "kernelspec": {
   "display_name": "Python 3",
   "language": "python",
   "name": "python3"
  },
  "language_info": {
   "codemirror_mode": {
    "name": "ipython",
    "version": 3
   },
   "file_extension": ".py",
   "mimetype": "text/x-python",
   "name": "python",
   "nbconvert_exporter": "python",
   "pygments_lexer": "ipython3",
   "version": "3.13.7"
  }
 },
 "nbformat": 4,
 "nbformat_minor": 5
}
